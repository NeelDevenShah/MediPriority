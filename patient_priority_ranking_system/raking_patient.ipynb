{
 "cells": [
  {
   "cell_type": "code",
   "execution_count": 1,
   "metadata": {},
   "outputs": [
    {
     "name": "stderr",
     "output_type": "stream",
     "text": [
      "c:\\Python312\\Lib\\site-packages\\tqdm\\auto.py:21: TqdmWarning: IProgress not found. Please update jupyter and ipywidgets. See https://ipywidgets.readthedocs.io/en/stable/user_install.html\n",
      "  from .autonotebook import tqdm as notebook_tqdm\n"
     ]
    }
   ],
   "source": [
    "from langchain_google_genai import ChatGoogleGenerativeAI"
   ]
  },
  {
   "cell_type": "code",
   "execution_count": 17,
   "metadata": {},
   "outputs": [],
   "source": [
    "import os\n",
    "\n",
    "os.environ[\"GOOGLE_API_KEY\"] = \"\"\n",
    "llm = ChatGoogleGenerativeAI(model = \"gemini-pro\",temperature=0)"
   ]
  },
  {
   "cell_type": "code",
   "execution_count": 24,
   "metadata": {},
   "outputs": [],
   "source": [
    "from crewai import Crew, Agent, Task\n",
    "\n",
    "\n",
    "ranker_agent = Agent(\n",
    "    role=\"Patient Ranking Agent\",\n",
    "    goal=\"To rank patients based on the urgency of their condition from 1 to 10.\",\n",
    "    backstory=\"An analytical and precise virtual assistant designed to prioritize patients based on the severity of their symptoms and conditions based on the patients general data and it's visual data.\",\n",
    "    llm=llm,\n",
    "    allow_delegation=False,\n",
    "    verbose=True\n",
    ")\n",
    "\n",
    "# Define the ranking task\n",
    "rank_patient_task = Task(\n",
    "    description=(\n",
    "        \"1. Assess the patient's symptoms and conditions baed on the rules: {rules}  .\"\n",
    "        \"2. Rank the patient based on the general information: {general_information} and visual information {visual_information}.\"\n",
    "        \"3. Assign a score from 1 to 10.\"\n",
    "    ),\n",
    "    expected_output=\"Only a numeric output of  ranked score from 1 to 10 based on the urgency of the patient's condition.\",\n",
    "    agent=ranker_agent,\n",
    ")\n"
   ]
  },
  {
   "cell_type": "code",
   "execution_count": 30,
   "metadata": {},
   "outputs": [],
   "source": [
    "rules = \"\"\"\n",
    "Severe but Not Immediately Life-Threatening Conditions:\n",
    "\n",
    "High Fever for Several Days (e.g., 103°F or higher for more than 2 days): 3 points\n",
    "Severe Abdominal Pain (potential appendicitis): 3 points\n",
    "Uncontrolled Bleeding (e.g., deep cuts, heavy nosebleed): 3 points\n",
    "Severe Dehydration (due to vomiting/diarrhea): 3 points\n",
    "Moderate Conditions:\n",
    "\n",
    "Moderate Fever (e.g., 101-102°F): 2 points\n",
    "Persistent Vomiting or Diarrhea: 2 points\n",
    "Severe Headache (potential migraine): 2 points\n",
    "Stomach Ache from Eating Stale Food: 2 points\n",
    "Mild Conditions:\n",
    "\n",
    "Mild Cold or Flu Symptoms: 1 point\n",
    "Mild Allergic Reactions (mild rash, itching): 1 point\n",
    "Minor Cuts and Scrapes: 1 point\n",
    "Routine Check-ups and Follow-ups: 1 point\n",
    "Additional Factors to Consider:\n",
    "Patient Age and Overall Health:\n",
    "\n",
    "Infant or Elderly: +2 points\n",
    "Symptom Duration and Progression:\n",
    "\n",
    "Symptoms for more than 3 days: +2 points\n",
    "Effectiveness of Medication:\n",
    "\n",
    "Medication not having any effect or having effect for very short time: +2 points\n",
    "Ranking Calculation:\n",
    "Initialize the score:\n",
    "\n",
    "Start with 0 points.\n",
    "Assign points based on the primary condition:\n",
    "\n",
    "Add points according to the condition category (Severe, Moderate, Mild).\n",
    "Add points for additional factors:\n",
    "\n",
    "Add 2 points if the patient is an infant or elderly (age greater than 50 or age less than 8).\n",
    "Add 2 points if the symptoms have persisted for more than 4 days.\n",
    "Add 2 points if the medication is not effective.\n",
    "Determine the urgency level:\n",
    "\"\"\""
   ]
  },
  {
   "cell_type": "code",
   "execution_count": 31,
   "metadata": {},
   "outputs": [],
   "source": [
    "general_information = \"Patient Name: Sneh Age: 20 Symptoms: - High fever (99 degrees Fahrenheit) - Cold - Cough Pain Assessment: None provided Medication: Paracetamol, effective for a few hours Symptom Duration: 2 days Additional Information: None\""
   ]
  },
  {
   "cell_type": "code",
   "execution_count": 32,
   "metadata": {},
   "outputs": [],
   "source": [
    "vision_information = \"\"\"\n",
    "Skin Color and Condition:\n",
    "\n",
    "Pale Skin: The patient's skin appears slightly pale, which could indicate anemia, shock, or lack of oxygen.\n",
    "Yellowish Skin (Jaundice): No signs of yellowing are observed in the skin.\n",
    "Blue Skin or Lips (Cyanosis): No blue discoloration is visible on the skin or lips.\n",
    "Redness: There is significant redness on the cheeks and nose, which may suggest a condition like rosacea.\n",
    "Rashes or Hives: No rashes or hives are visible on the face.\n",
    "Pimples, Pustules, or Pox: No pimples, pustules, or pox are observed.\n",
    "Eyes:\n",
    "\n",
    "Dark Circles: There are dark circles under the eyes, suggesting sleep deprivation, stress, or chronic fatigue.\n",
    "Yellowing (Scleral Icterus): No yellowing is observed in the sclera.\n",
    "Red or Bloodshot Eyes: The eyes appear slightly red or bloodshot, which could indicate an infection, allergy, or irritation.\n",
    "Drooping Eyelids (Ptosis): The eyelids appear slightly droopy, which may be due to fatigue or neurological issues.\n",
    "Mouth and Lips:\n",
    "\n",
    "Blue Lips (Cyanosis): The lips appear slightly blue, indicating poor oxygenation.\n",
    "Swollen Lips: There is no swelling observed on the lips.\n",
    "Cracked or Dry Lips: The lips appear dry, which may indicate dehydration or vitamin deficiencies.\n",
    "Neck region:\n",
    "\n",
    "Swollen Glands: No swollen glands are visible in the neck region.\n",
    "Visible Thyroid Enlargement (Goiter): The thyroid gland is not visibly enlarged.\n",
    "\"\"\""
   ]
  },
  {
   "cell_type": "code",
   "execution_count": 33,
   "metadata": {},
   "outputs": [
    {
     "name": "stderr",
     "output_type": "stream",
     "text": [
      "2024-06-26 17:06:41,068 - 11664 - __init__.py-__init__:518 - WARNING: Overriding of current TracerProvider is not allowed\n"
     ]
    }
   ],
   "source": [
    "crew = Crew(agents=[ranker_agent], tasks=[rank_patient_task],verbose=2)\n",
    "input_data = {\"rules\": rules, \"general_information\": general_information, \"visual_information\": vision_information}"
   ]
  },
  {
   "cell_type": "code",
   "execution_count": 34,
   "metadata": {},
   "outputs": [
    {
     "name": "stdout",
     "output_type": "stream",
     "text": [
      "\u001b[1m\u001b[95m [2024-06-26 17:06:41][DEBUG]: == Working Agent: Patient Ranking Agent\u001b[00m\n",
      "\u001b[1m\u001b[95m [2024-06-26 17:06:41][INFO]: == Starting Task: 1. Assess the patient's symptoms and conditions baed on the rules: \n",
      "Severe but Not Immediately Life-Threatening Conditions:\n",
      "\n",
      "High Fever for Several Days (e.g., 103°F or higher for more than 2 days): 3 points\n",
      "Severe Abdominal Pain (potential appendicitis): 3 points\n",
      "Uncontrolled Bleeding (e.g., deep cuts, heavy nosebleed): 3 points\n",
      "Severe Dehydration (due to vomiting/diarrhea): 3 points\n",
      "Moderate Conditions:\n",
      "\n",
      "Moderate Fever (e.g., 101-102°F): 2 points\n",
      "Persistent Vomiting or Diarrhea: 2 points\n",
      "Severe Headache (potential migraine): 2 points\n",
      "Stomach Ache from Eating Stale Food: 2 points\n",
      "Mild Conditions:\n",
      "\n",
      "Mild Cold or Flu Symptoms: 1 point\n",
      "Mild Allergic Reactions (mild rash, itching): 1 point\n",
      "Minor Cuts and Scrapes: 1 point\n",
      "Routine Check-ups and Follow-ups: 1 point\n",
      "Additional Factors to Consider:\n",
      "Patient Age and Overall Health:\n",
      "\n",
      "Infant or Elderly: +2 points\n",
      "Symptom Duration and Progression:\n",
      "\n",
      "Symptoms for more than 3 days: +2 points\n",
      "Effectiveness of Medication:\n",
      "\n",
      "Medication not having any effect or having effect for very short time: +2 points\n",
      "Ranking Calculation:\n",
      "Initialize the score:\n",
      "\n",
      "Start with 0 points.\n",
      "Assign points based on the primary condition:\n",
      "\n",
      "Add points according to the condition category (Severe, Moderate, Mild).\n",
      "Add points for additional factors:\n",
      "\n",
      "Add 2 points if the patient is an infant or elderly (age greater than 50 or age less than 8).\n",
      "Add 2 points if the symptoms have persisted for more than 4 days.\n",
      "Add 2 points if the medication is not effective.\n",
      "Determine the urgency level:\n",
      "  .2. Rank the patient based on the general information: Patient Name: Sneh Age: 20 Symptoms: - High fever (99 degrees Fahrenheit) - Cold - Cough Pain Assessment: None provided Medication: Paracetamol, effective for a few hours Symptom Duration: 2 days Additional Information: None and visual information \n",
      "Skin Color and Condition:\n",
      "\n",
      "Pale Skin: The patient's skin appears slightly pale, which could indicate anemia, shock, or lack of oxygen.\n",
      "Yellowish Skin (Jaundice): No signs of yellowing are observed in the skin.\n",
      "Blue Skin or Lips (Cyanosis): No blue discoloration is visible on the skin or lips.\n",
      "Redness: There is significant redness on the cheeks and nose, which may suggest a condition like rosacea.\n",
      "Rashes or Hives: No rashes or hives are visible on the face.\n",
      "Pimples, Pustules, or Pox: No pimples, pustules, or pox are observed.\n",
      "Eyes:\n",
      "\n",
      "Dark Circles: There are dark circles under the eyes, suggesting sleep deprivation, stress, or chronic fatigue.\n",
      "Yellowing (Scleral Icterus): No yellowing is observed in the sclera.\n",
      "Red or Bloodshot Eyes: The eyes appear slightly red or bloodshot, which could indicate an infection, allergy, or irritation.\n",
      "Drooping Eyelids (Ptosis): The eyelids appear slightly droopy, which may be due to fatigue or neurological issues.\n",
      "Mouth and Lips:\n",
      "\n",
      "Blue Lips (Cyanosis): The lips appear slightly blue, indicating poor oxygenation.\n",
      "Swollen Lips: There is no swelling observed on the lips.\n",
      "Cracked or Dry Lips: The lips appear dry, which may indicate dehydration or vitamin deficiencies.\n",
      "Neck region:\n",
      "\n",
      "Swollen Glands: No swollen glands are visible in the neck region.\n",
      "Visible Thyroid Enlargement (Goiter): The thyroid gland is not visibly enlarged.\n",
      ".3. Assign a score from 1 to 10.\u001b[00m\n",
      "\n",
      "\n",
      "\u001b[1m> Entering new CrewAgentExecutor chain...\u001b[0m\n",
      "\u001b[32;1m\u001b[1;3mFinal Answer: 4\u001b[0m\n",
      "\n",
      "\u001b[1m> Finished chain.\u001b[0m\n",
      "\u001b[1m\u001b[92m [2024-06-26 17:06:43][DEBUG]: == [Patient Ranking Agent] Task output: 4\n",
      "\n",
      "\u001b[00m\n"
     ]
    }
   ],
   "source": [
    "result = crew.kickoff(input_data)"
   ]
  }
 ],
 "metadata": {
  "kernelspec": {
   "display_name": "Python 3",
   "language": "python",
   "name": "python3"
  },
  "language_info": {
   "codemirror_mode": {
    "name": "ipython",
    "version": 3
   },
   "file_extension": ".py",
   "mimetype": "text/x-python",
   "name": "python",
   "nbconvert_exporter": "python",
   "pygments_lexer": "ipython3",
   "version": "3.12.3"
  }
 },
 "nbformat": 4,
 "nbformat_minor": 2
}
